{
 "cells": [
  {
   "cell_type": "code",
   "execution_count": 1,
   "id": "da168b1d",
   "metadata": {},
   "outputs": [],
   "source": [
    "import re, math, collections\n",
    "from pathlib import Path\n",
    "\n",
    "import json\n",
    "\n",
    "import numpy as np\n",
    "import pandas as pd\n",
    "import scipy.sparse as sp\n",
    "import matplotlib.pyplot as plt\n",
    "\n",
    "import nltk\n",
    "from nltk.corpus import stopwords\n",
    "from nltk.stem import PorterStemmer\n",
    "# nltk.download('punkt'); nltk.download('stopwords')   # first run only\n"
   ]
  },
  {
   "cell_type": "code",
   "execution_count": 2,
   "id": "bfcd4545",
   "metadata": {},
   "outputs": [],
   "source": [
    "DATA_DIR = Path(\".\")\n",
    "PLAINTEXT_DIR = DATA_DIR / \"plaintext_articles\"\n",
    "LINKS_TSV = DATA_DIR / \"links.tsv\"\n",
    "ARTICLES_TSV = DATA_DIR / \"articles.tsv\"\n",
    "\n",
    "assert PLAINTEXT_DIR.exists(), \"folder plaintext_articles not found\"\n",
    "assert LINKS_TSV.exists(), \"links.tsv not found\"\n",
    "assert ARTICLES_TSV.exists(), \"articles.tsv not found\"\n"
   ]
  },
  {
   "cell_type": "code",
   "execution_count": 3,
   "id": "a1f3a54d",
   "metadata": {},
   "outputs": [],
   "source": [
    "TOKEN_RE = re.compile(r\"[A-Za-z]{2,}\")\n",
    "STOPWORDS = set(stopwords.words(\"english\"))\n",
    "STEM = PorterStemmer().stem\n",
    "\n",
    "\n",
    "def preprocess(text: str) -> list[str]:\n",
    "    \"\"\"Lower-case, tokenize, remove stop-words, apply Porter-stemmer.\"\"\"\n",
    "    return [STEM(tok) for tok in TOKEN_RE.findall(text.lower()) if tok not in STOPWORDS]\n"
   ]
  },
  {
   "cell_type": "code",
   "execution_count": 4,
   "id": "99a53693",
   "metadata": {},
   "outputs": [],
   "source": [
    "art_df = pd.read_csv(\n",
    "    ARTICLES_TSV, sep=\"\\t\", header=None, names=[\"id\", \"title\"], dtype=str\n",
    ")\n",
    "id2title = dict(zip(art_df.id, art_df.title))\n",
    "valid_titles = {p.stem for p in PLAINTEXT_DIR.glob(\"*.txt\")}\n"
   ]
  },
  {
   "cell_type": "code",
   "execution_count": 5,
   "id": "7cc3648d",
   "metadata": {},
   "outputs": [
    {
     "name": "stdout",
     "output_type": "stream",
     "text": [
      "edges kept: 119882\n"
     ]
    }
   ],
   "source": [
    "links_raw = pd.read_csv(\n",
    "    LINKS_TSV, sep=\"\\t\", header=None, names=[\"src_raw\", \"dst_raw\"], dtype=str\n",
    ")\n",
    "\n",
    "\n",
    "def to_title(x: str) -> str | None:\n",
    "    if x in valid_titles:\n",
    "        return x\n",
    "    return id2title.get(x)  # None if id not found\n",
    "\n",
    "\n",
    "links_df = links_raw.assign(\n",
    "    src=links_raw.src_raw.map(to_title), dst=links_raw.dst_raw.map(to_title)\n",
    ").dropna(subset=[\"src\", \"dst\"])\n",
    "links_df = links_df[\n",
    "    links_df.src.isin(valid_titles) & links_df.dst.isin(valid_titles)\n",
    "].loc[:, [\"src\", \"dst\"]]\n",
    "\n",
    "print(\"edges kept:\", len(links_df))\n"
   ]
  },
  {
   "cell_type": "code",
   "execution_count": 6,
   "id": "91147288",
   "metadata": {},
   "outputs": [
    {
     "name": "stdout",
     "output_type": "stream",
     "text": [
      "root-set size: 200\n"
     ]
    }
   ],
   "source": [
    "from collections import defaultdict, Counter\n",
    "\n",
    "\n",
    "def collect_200(query: str, limit: int = 200, mode: str = \"OR\"):\n",
    "    q_terms = preprocess(query)\n",
    "    docs, inv = [], defaultdict(set)\n",
    "    tf, dl, df = {}, {}, defaultdict(int)\n",
    "\n",
    "    for txt in PLAINTEXT_DIR.glob(\"*.txt\"):\n",
    "        if len(docs) >= limit:\n",
    "            break\n",
    "        doc_id = txt.stem\n",
    "        tokens = preprocess(txt.read_text(\"utf-8\", errors=\"ignore\"))\n",
    "        tok_set = set(tokens)\n",
    "        cond = (\n",
    "            any(t in tok_set for t in q_terms)\n",
    "            if mode == \"OR\"\n",
    "            else all(t in tok_set for t in set(q_terms))\n",
    "        )\n",
    "        if not cond:\n",
    "            continue\n",
    "        docs.append(doc_id)\n",
    "        cnt = Counter(tokens)\n",
    "        tf[doc_id] = cnt\n",
    "        dl[doc_id] = len(tokens)\n",
    "        for t, c in cnt.items():\n",
    "            inv[t].add(doc_id)\n",
    "        for t in tok_set:\n",
    "            df[t] += 1\n",
    "\n",
    "    N = len(docs)\n",
    "    bm = dict(tf=tf, df=df, doc_len=dl, avg_dl=sum(dl.values()) / N if N else 0.0, N=N)\n",
    "    return docs, bm\n",
    "\n",
    "\n",
    "QUERY = \"pictish kings and scottish history\"\n",
    "root_docs, bm_raw = collect_200(QUERY)\n",
    "root_set = set(root_docs)\n",
    "print(\"root-set size:\", len(root_set))\n"
   ]
  },
  {
   "cell_type": "code",
   "execution_count": 7,
   "id": "c100632b",
   "metadata": {},
   "outputs": [
    {
     "name": "stdout",
     "output_type": "stream",
     "text": [
      "base-set size: 3108\n"
     ]
    }
   ],
   "source": [
    "def build_base(root: set[str]) -> set[str]:\n",
    "    in_nei = links_df.loc[links_df.dst.isin(root), \"src\"]\n",
    "    out_nei = links_df.loc[links_df.src.isin(root), \"dst\"]\n",
    "    return set(root).union(in_nei).union(out_nei)\n",
    "\n",
    "\n",
    "base_set = build_base(root_set)\n",
    "print(\"base-set size:\", len(base_set))\n"
   ]
  },
  {
   "cell_type": "code",
   "execution_count": 8,
   "id": "78f129d0",
   "metadata": {},
   "outputs": [],
   "source": [
    "def build_graph(base: set[str]):\n",
    "    idx = {n: i for i, n in enumerate(base)}\n",
    "    N = len(idx)\n",
    "\n",
    "    mask = links_df.src.isin(base) & links_df.dst.isin(base)\n",
    "    sub = links_df.loc[mask]\n",
    "    s = sub.src.map(idx).to_numpy()\n",
    "    d = sub.dst.map(idx).to_numpy()\n",
    "\n",
    "    # adjacency (column j = links out of node j)\n",
    "    A = sp.coo_matrix((np.ones_like(s, dtype=float), (d, s)), shape=(N, N)).tocsc()\n",
    "\n",
    "    out_deg = np.bincount(s, minlength=N)\n",
    "    in_deg = np.bincount(d, minlength=N)\n",
    "    return idx, A, in_deg, out_deg, s, d\n",
    "\n",
    "\n",
    "idx, A, in_deg, out_deg, s_idx, d_idx = build_graph(base_set)\n",
    "N = len(idx)\n"
   ]
  },
  {
   "cell_type": "code",
   "execution_count": 9,
   "id": "6cc81a64",
   "metadata": {},
   "outputs": [],
   "source": [
    "def power(M: sp.csc_matrix, d: float = 0.85, tol: float = 1e-10, max_iter: int = 100):\n",
    "    N = M.shape[0]\n",
    "    pr = np.full(N, 1 / N)\n",
    "    teleport = (1 - d) / N\n",
    "    dangling = np.where(M.sum(axis=0).A.ravel() == 0)[0]\n",
    "\n",
    "    for _ in range(max_iter):\n",
    "        prev = pr.copy()\n",
    "        pr = d * (M @ prev)\n",
    "        if dangling.size:\n",
    "            pr += d * prev[dangling].sum() / N\n",
    "        pr += teleport\n",
    "        if np.linalg.norm(pr - prev, 1) < tol:\n",
    "            break\n",
    "    return pr / pr.sum()\n",
    "\n",
    "\n",
    "def wpr_matrix(N, s, d, in_deg, out_deg):\n",
    "    sum_I = np.bincount(s, weights=in_deg[d], minlength=N)\n",
    "    sum_O = np.bincount(s, weights=out_deg[d], minlength=N)\n",
    "\n",
    "    data, rows, cols = [], [], []\n",
    "    for si, di in zip(s, d):\n",
    "        if sum_I[si] == 0 or sum_O[si] == 0:\n",
    "            continue\n",
    "        w = (in_deg[di] / sum_I[si]) * (out_deg[di] / sum_O[si])\n",
    "        rows.append(di)\n",
    "        cols.append(si)\n",
    "        data.append(w)\n",
    "\n",
    "    M = sp.coo_matrix((data, (rows, cols)), shape=(N, N)).tocsc()\n",
    "\n",
    "    # dangling columns → uniform\n",
    "    zero = np.where(M.sum(axis=0).A.ravel() == 0)[0]\n",
    "    if zero.size:\n",
    "        M[:, zero] = sp.csc_matrix(np.full((N, zero.size), 1 / N))\n",
    "\n",
    "    # column-stochastic\n",
    "    col_sum = np.asarray(M.sum(axis=0)).ravel()\n",
    "    M.data /= col_sum[M.indices]\n",
    "    return M\n"
   ]
  },
  {
   "cell_type": "code",
   "execution_count": 10,
   "id": "b5352d4b",
   "metadata": {},
   "outputs": [],
   "source": [
    "# classical PR matrix (column-normalised A)\n",
    "col_sum = np.asarray(A.sum(axis=0)).ravel()\n",
    "A_norm = A.copy()\n",
    "A_norm.data /= col_sum[A_norm.indices]\n",
    "\n",
    "pr_vec = power(A_norm)  # classical PageRank\n",
    "M_wpr = wpr_matrix(N, s_idx, d_idx, in_deg, out_deg)\n",
    "wpr_vec = power(M_wpr)  # Weighted PageRank\n"
   ]
  },
  {
   "cell_type": "code",
   "execution_count": 11,
   "id": "e12449fa",
   "metadata": {},
   "outputs": [],
   "source": [
    "def bm25(query: str, bm, k1=1.5, b=0.75):\n",
    "    q_terms = preprocess(query)\n",
    "    N = bm[\"N\"]\n",
    "    idf = {\n",
    "        t: math.log((N - bm[\"df\"].get(t, 0) + 0.5) / (bm[\"df\"].get(t, 0) + 0.5) + 1)\n",
    "        for t in q_terms\n",
    "    }\n",
    "\n",
    "    scores = {}\n",
    "    for doc, tf in bm[\"tf\"].items():\n",
    "        dl = bm[\"doc_len\"][doc]\n",
    "        K = k1 * ((1 - b) + b * dl / bm[\"avg_dl\"])\n",
    "        s = 0.0\n",
    "        for t in q_terms:\n",
    "            f = tf.get(t, 0)\n",
    "            if f:\n",
    "                s += idf[t] * (f * (k1 + 1)) / (f + K)\n",
    "        scores[doc] = s\n",
    "    return scores\n",
    "\n",
    "\n",
    "bm25_scores = bm25(QUERY, bm_raw)\n"
   ]
  },
  {
   "cell_type": "code",
   "execution_count": 12,
   "id": "981b99fc",
   "metadata": {},
   "outputs": [],
   "source": [
    "# threshold = median of positive scores; top 20 % = VR\n",
    "positive = [s for s in bm25_scores.values() if s > 0]\n",
    "if positive:\n",
    "    med = np.median(positive)\n",
    "    vr_threshold = 0.8 * max(positive)\n",
    "\n",
    "category = {}\n",
    "for d, s in bm25_scores.items():\n",
    "    if s == 0:\n",
    "        category[d] = \"IR\"\n",
    "    elif s >= vr_threshold:\n",
    "        category[d] = \"VR\"\n",
    "    elif s >= med:\n",
    "        category[d] = \"R\"\n",
    "    else:\n",
    "        category[d] = \"WR\"\n",
    "\n",
    "weights = {\"VR\": 1.0, \"R\": 0.5, \"WR\": 0.1, \"IR\": 0.0}\n"
   ]
  },
  {
   "cell_type": "code",
   "execution_count": 13,
   "id": "412f8651",
   "metadata": {},
   "outputs": [
    {
     "name": "stdout",
     "output_type": "stream",
     "text": [
      "Evaluation PR vs WPR  (cut-offs 5,10,20,40,50)\n",
      "{\n",
      "  \"PR\": {\n",
      "    \"count\": [\n",
      "      1,\n",
      "      4,\n",
      "      13,\n",
      "      24,\n",
      "      29\n",
      "    ],\n",
      "    \"kappa\": [\n",
      "      2.7,\n",
      "      12.7,\n",
      "      64.2,\n",
      "      281.6,\n",
      "      435.1\n",
      "    ]\n",
      "  },\n",
      "  \"WPR\": {\n",
      "    \"count\": [\n",
      "      4,\n",
      "      8,\n",
      "      15,\n",
      "      30,\n",
      "      36\n",
      "    ],\n",
      "    \"kappa\": [\n",
      "      6.3,\n",
      "      22.3,\n",
      "      84.6,\n",
      "      326.0,\n",
      "      507.1\n",
      "    ]\n",
      "  }\n",
      "}\n"
     ]
    }
   ],
   "source": [
    "cutoffs = [5, 10, 20, 40, 50]\n",
    "\n",
    "\n",
    "def top_scores(vec):\n",
    "    return sorted(vec.items(), key=lambda x: x[1], reverse=True)\n",
    "\n",
    "\n",
    "pr_rank = [d for d, _ in top_scores({n: pr_vec[idx[n]] for n in root_set})]\n",
    "wpr_rank = [d for d, _ in top_scores({n: wpr_vec[idx[n]] for n in root_set})]\n",
    "\n",
    "\n",
    "def kappa(rank):\n",
    "    out = []\n",
    "    for n in cutoffs:\n",
    "        κ = 0.0\n",
    "        prefix = rank[:n]\n",
    "        for i, doc in enumerate(prefix):\n",
    "            κ += (n - i) * weights[category.get(doc, \"IR\")]\n",
    "        out.append(round(κ, 2))\n",
    "    return out\n",
    "\n",
    "\n",
    "def relevant_count(rank):\n",
    "    return [sum(category.get(doc) in (\"VR\", \"R\") for doc in rank[:n]) for n in cutoffs]\n",
    "\n",
    "\n",
    "results = {\n",
    "    \"PR\": {\"count\": relevant_count(pr_rank), \"kappa\": kappa(pr_rank)},\n",
    "    \"WPR\": {\"count\": relevant_count(wpr_rank), \"kappa\": kappa(wpr_rank)},\n",
    "}\n",
    "\n",
    "print(\"Evaluation PR vs WPR  (cut-offs 5,10,20,40,50)\")\n",
    "print(json.dumps(results, indent=2))\n"
   ]
  },
  {
   "cell_type": "code",
   "execution_count": 14,
   "id": "7db8045a",
   "metadata": {},
   "outputs": [
    {
     "data": {
      "image/png": "[encoded data removed]",
      "text/plain": [
       "<Figure size 800x400 with 1 Axes>"
      ]
     },
     "metadata": {},
     "output_type": "display_data"
    }
   ],
   "source": [
    "x = np.arange(len(cutoffs))\n",
    "width = 0.35\n",
    "\n",
    "fig, ax = plt.subplots(figsize=(8, 4))\n",
    "ax.bar(x - width / 2, results[\"PR\"][\"kappa\"], width, label=\"PageRank\")\n",
    "ax.bar(x + width / 2, results[\"WPR\"][\"kappa\"], width, label=\"W-PageRank\")\n",
    "\n",
    "ax.set_xticks(x)\n",
    "ax.set_xticklabels([str(c) for c in cutoffs])\n",
    "ax.set_xlabel(\"Prefix size (top-n pages)\")\n",
    "ax.set_ylabel(\"κ-score\")\n",
    "ax.set_title(\"Relevance comparison – PR vs WPR\")\n",
    "ax.legend()\n",
    "plt.show()\n"
   ]
  },
  {
   "cell_type": "markdown",
   "id": "96419353",
   "metadata": {},
   "source": [
    "<h1>the end\n"
   ]
  }
 ],
 "metadata": {
  "kernelspec": {
   "display_name": "Python 3",
   "language": "python",
   "name": "python3"
  },
  "language_info": {
   "codemirror_mode": {
    "name": "ipython",
    "version": 3
   },
   "file_extension": ".py",
   "mimetype": "text/x-python",
   "name": "python",
   "nbconvert_exporter": "python",
   "pygments_lexer": "ipython3",
   "version": "3.13.2"
  }
 },
 "nbformat": 4,
 "nbformat_minor": 5
}
